{
 "cells": [
  {
   "cell_type": "markdown",
   "metadata": {},
   "source": [
    "# Cálculo de distancia geoespacial\n",
    "\n",
    "Utilizaremos la librería geopy, la cual permite realizar el cálculo de la distancia entre dos coordenadas como contraste a la ecuación geodésica depositada en la función havesine."
   ]
  },
  {
   "cell_type": "code",
   "execution_count": null,
   "metadata": {},
   "outputs": [],
   "source": [
    "#Instalamos la librería geopy\n",
    "\n",
    "!pip install geopy\n"
   ]
  },
  {
   "cell_type": "code",
   "execution_count": 1,
   "metadata": {},
   "outputs": [
    {
     "name": "stdout",
     "output_type": "stream",
     "text": [
      "Ingresa la primera longitud. Debe estar entre -180 y 180:\n",
      "-120.21\n",
      "Ingresa la primera latitud. Debe estar entre -90 y 90:\n",
      "132\n",
      "Ingresa la primera latitud. Debe estar entre -90 y 90:\n",
      "26\n",
      "La primera coordenada es latitud:-120.21 y longitud:26.0\n",
      "Ingresa la segunda longitud. Debe estar entre -180 y 180:\n",
      "25.32313\n",
      "Ingresa la segunda latitud. Debe estar entre -90 y 90:\n",
      "12.1232\n",
      "La segunda coordenada es latitud:25.32313 y longitud:12.1232\n"
     ]
    }
   ],
   "source": [
    "# Se importa numpy y la librería de RegEx\n",
    "import numpy as np\n",
    "import re\n",
    "#Se establece el patrón de búsqueda para todo número dentro del texto tecleado por el usuario\n",
    "pattern=\"-?\\d*\\.?\\d+\"\n",
    "#Se establece un loop para solicitar al usuario ingresar números acordes con los valores de la longitud y latitud.\n",
    "#Sin importar si el usuario ingresa varios números, texto, espacios, etc. el programa recaba únicamente la primer secuencia válida.\n",
    "long_1=-190\n",
    "while not int(long_1) in range(-180,181):\n",
    "    print(\"Ingresa la primera longitud. Debe estar entre -180 y 180:\")\n",
    "    long_1=float(re.search(pattern,input()).group())\n",
    "lati_1=-100\n",
    "while not int(lati_1) in range(-90,91):\n",
    "    print(\"Ingresa la primera latitud. Debe estar entre -90 y 90:\")\n",
    "    lati_1=float(re.search(pattern,input()).group())\n",
    "print(\"La primera coordenada es latitud:{} y longitud:{}\".format(long_1,lati_1))\n",
    "long_2=-190\n",
    "while not int(long_2) in range(-180,181):\n",
    "    print(\"Ingresa la segunda longitud. Debe estar entre -180 y 180:\")\n",
    "    long_2=float(re.search(pattern,input()).group())\n",
    "lati_2=-100\n",
    "while not int(lati_2) in range(-90,91):\n",
    "    print(\"Ingresa la segunda latitud. Debe estar entre -90 y 90:\")\n",
    "    lati_2=float(re.search(pattern,input()).group())\n",
    "print(\"La segunda coordenada es latitud:{} y longitud:{}\".format(long_2,lati_2))\n",
    "primera=lati_1,long_1\n",
    "segunda=lati_2,long_2"
   ]
  },
  {
   "cell_type": "code",
   "execution_count": 3,
   "metadata": {},
   "outputs": [],
   "source": [
    "# Se hace el cálculo de la distancia geodésica, según  https://janakiev.com/blog/gps-points-distance-python/ y editado para generar arrays adecuados al problema\n",
    "\n",
    "import math\n",
    "\n",
    "def haversine(coord1, coord2):\n",
    "    R = 6371008.7714150598  # Earth radius in meters el mismo que en Geopy (ver https://geopy.readthedocs.io/en/latest/#module-geopy.distance buscar 'radius')\n",
    "    lat1, lon1 = coord1\n",
    "    lat2, lon2 = coord2\n",
    "    \n",
    "    phi1, phi2 = math.radians(lat1), math.radians(lat2) \n",
    "    dphi       = math.radians(lat2 - lat1)\n",
    "    dlambda    = math.radians(lon2 - lon1)\n",
    "    \n",
    "    a = math.sin(dphi/2)**2 + \\\n",
    "        math.cos(phi1)*math.cos(phi2)*math.sin(dlambda/2)**2\n",
    "    \n",
    "    return 2*R*math.atan2(math.sqrt(a), math.sqrt(1 - a))\n",
    "\n",
    "metric=haversine(primera,segunda)\n",
    "centimetric=haversine(primera,segunda)*100\n",
    "kilometric=haversine(primera,segunda)/1000\n",
    "time4walkhours=kilometric/2\n",
    "time4carhours=kilometric/60\n",
    "time4walkmin=time4walkhours*60\n",
    "time4carmin=time4carhours*60\n",
    "time4walksec=time4walkmin*60\n",
    "time4carsec=time4carmin*60"
   ]
  },
  {
   "cell_type": "code",
   "execution_count": 6,
   "metadata": {},
   "outputs": [
    {
     "name": "stdout",
     "output_type": "stream",
     "text": [
      "14385331.288455773\n",
      "14369648.621659445\n"
     ]
    }
   ],
   "source": [
    "# Se corrobora que el cálculo sea parecido al de la  librería Geopy https://geopy.readthedocs.io/en/latest/#module-geopy.distance (se emplea la misma constante radial de la tierra ())\n",
    "from geopy.distance import geodesic\n",
    "print(geodesic(primera, segunda).m)\n",
    "from geopy.distance import great_circle\n",
    "print(great_circle(primera, segunda).m)\n"
   ]
  },
  {
   "cell_type": "code",
   "execution_count": 5,
   "metadata": {},
   "outputs": [
    {
     "name": "stdout",
     "output_type": "stream",
     "text": [
      "Distancia entre dos puntos de la tierra y tiempo de travesía para Peatón (2km/h) y Automóvil (60km/h)\n",
      "Primera coordenada: (26.0, -120.21)\n",
      "Segunda coordenada: (12.1232, 25.32313)\n",
      "Distancia: 1436964810.6091928 cms.; 14369648.106091928 m.; 14369.648106091929 kms.\n",
      "Tiempo peatón: 25865366.590965472 s.; 431089.4431827579 min.; 7184.824053045964 hrs.\n",
      "Tiempo automóvil: 862178.8863655158 s.; 14369.648106091929 min.; 239.49413510153215 hrs.\n"
     ]
    }
   ],
   "source": [
    "#Se reportan los resultados\n",
    "print(\"Distancia entre dos puntos de la tierra y tiempo de travesía para Peatón (2km/h) y Automóvil (60km/h)\")\n",
    "print(\"Primera coordenada: {}\".format(primera))\n",
    "print(\"Segunda coordenada: {}\".format(segunda))\n",
    "print(\"Distancia: {} cms.; {} m.; {} kms.\".format(centimetric,metric,kilometric))\n",
    "print(\"Tiempo peatón: {} s.; {} min.; {} hrs.\".format(time4walksec,time4walkmin,time4walkhours))\n",
    "print(\"Tiempo automóvil: {} s.; {} min.; {} hrs.\".format(time4carsec,time4carmin,time4carhours))"
   ]
  },
  {
   "cell_type": "code",
   "execution_count": null,
   "metadata": {},
   "outputs": [],
   "source": []
  }
 ],
 "metadata": {
  "kernelspec": {
   "display_name": "Python 3",
   "language": "python",
   "name": "python3"
  },
  "language_info": {
   "codemirror_mode": {
    "name": "ipython",
    "version": 3
   },
   "file_extension": ".py",
   "mimetype": "text/x-python",
   "name": "python",
   "nbconvert_exporter": "python",
   "pygments_lexer": "ipython3",
   "version": "3.7.1"
  }
 },
 "nbformat": 4,
 "nbformat_minor": 2
}
